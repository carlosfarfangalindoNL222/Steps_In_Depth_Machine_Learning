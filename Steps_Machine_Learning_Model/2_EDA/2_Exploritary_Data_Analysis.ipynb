{
 "cells": [
  {
   "attachments": {},
   "cell_type": "markdown",
   "metadata": {},
   "source": [
    "# Exploritary Data Analysis"
   ]
  },
  {
   "cell_type": "code",
   "execution_count": 2,
   "metadata": {},
   "outputs": [],
   "source": [
    "import pandas as pd\n",
    "train = pd.read_csv('train_house_prices.csv')\n",
    "test = pd.read_csv('test_house_prices.csv')"
   ]
  },
  {
   "attachments": {},
   "cell_type": "markdown",
   "metadata": {},
   "source": [
    "## 1. Basics"
   ]
  },
  {
   "attachments": {},
   "cell_type": "markdown",
   "metadata": {},
   "source": [
    "* Number of rows\n",
    "* Number of columns"
   ]
  },
  {
   "cell_type": "code",
   "execution_count": 3,
   "metadata": {},
   "outputs": [
    {
     "name": "stdout",
     "output_type": "stream",
     "text": [
      "Shape of train data = (1460, 81)\n",
      "Shape of test data = (1459, 80)\n"
     ]
    }
   ],
   "source": [
    "# shape(rows, columns)\n",
    "print(f'Shape of train data = {train.shape}')\n",
    "print(f'Shape of test data = {test.shape}')"
   ]
  },
  {
   "attachments": {},
   "cell_type": "markdown",
   "metadata": {},
   "source": [
    "* Make a table of the data types, amount of null values and description of all the features"
   ]
  },
  {
   "cell_type": "code",
   "execution_count": 5,
   "metadata": {},
   "outputs": [],
   "source": [
    "data_types = train.dtypes\n",
    "null_values = train.isnull().sum()\n",
    "feature_names = train.columns\n",
    "new_table = pd.concat([data_types, null_values], axis=1)"
   ]
  },
  {
   "cell_type": "code",
   "execution_count": 6,
   "metadata": {},
   "outputs": [
    {
     "name": "stdout",
     "output_type": "stream",
     "text": [
      "|               | 0       |    1 |\n",
      "|:--------------|:--------|-----:|\n",
      "| Id            | int64   |    0 |\n",
      "| MSSubClass    | int64   |    0 |\n",
      "| MSZoning      | object  |    0 |\n",
      "| LotFrontage   | float64 |  259 |\n",
      "| LotArea       | int64   |    0 |\n",
      "| Street        | object  |    0 |\n",
      "| Alley         | object  | 1369 |\n",
      "| LotShape      | object  |    0 |\n",
      "| LandContour   | object  |    0 |\n",
      "| Utilities     | object  |    0 |\n",
      "| LotConfig     | object  |    0 |\n",
      "| LandSlope     | object  |    0 |\n",
      "| Neighborhood  | object  |    0 |\n",
      "| Condition1    | object  |    0 |\n",
      "| Condition2    | object  |    0 |\n",
      "| BldgType      | object  |    0 |\n",
      "| HouseStyle    | object  |    0 |\n",
      "| OverallQual   | int64   |    0 |\n",
      "| OverallCond   | int64   |    0 |\n",
      "| YearBuilt     | int64   |    0 |\n",
      "| YearRemodAdd  | int64   |    0 |\n",
      "| RoofStyle     | object  |    0 |\n",
      "| RoofMatl      | object  |    0 |\n",
      "| Exterior1st   | object  |    0 |\n",
      "| Exterior2nd   | object  |    0 |\n",
      "| MasVnrType    | object  |    8 |\n",
      "| MasVnrArea    | float64 |    8 |\n",
      "| ExterQual     | object  |    0 |\n",
      "| ExterCond     | object  |    0 |\n",
      "| Foundation    | object  |    0 |\n",
      "| BsmtQual      | object  |   37 |\n",
      "| BsmtCond      | object  |   37 |\n",
      "| BsmtExposure  | object  |   38 |\n",
      "| BsmtFinType1  | object  |   37 |\n",
      "| BsmtFinSF1    | int64   |    0 |\n",
      "| BsmtFinType2  | object  |   38 |\n",
      "| BsmtFinSF2    | int64   |    0 |\n",
      "| BsmtUnfSF     | int64   |    0 |\n",
      "| TotalBsmtSF   | int64   |    0 |\n",
      "| Heating       | object  |    0 |\n",
      "| HeatingQC     | object  |    0 |\n",
      "| CentralAir    | object  |    0 |\n",
      "| Electrical    | object  |    1 |\n",
      "| 1stFlrSF      | int64   |    0 |\n",
      "| 2ndFlrSF      | int64   |    0 |\n",
      "| LowQualFinSF  | int64   |    0 |\n",
      "| GrLivArea     | int64   |    0 |\n",
      "| BsmtFullBath  | int64   |    0 |\n",
      "| BsmtHalfBath  | int64   |    0 |\n",
      "| FullBath      | int64   |    0 |\n",
      "| HalfBath      | int64   |    0 |\n",
      "| BedroomAbvGr  | int64   |    0 |\n",
      "| KitchenAbvGr  | int64   |    0 |\n",
      "| KitchenQual   | object  |    0 |\n",
      "| TotRmsAbvGrd  | int64   |    0 |\n",
      "| Functional    | object  |    0 |\n",
      "| Fireplaces    | int64   |    0 |\n",
      "| FireplaceQu   | object  |  690 |\n",
      "| GarageType    | object  |   81 |\n",
      "| GarageYrBlt   | float64 |   81 |\n",
      "| GarageFinish  | object  |   81 |\n",
      "| GarageCars    | int64   |    0 |\n",
      "| GarageArea    | int64   |    0 |\n",
      "| GarageQual    | object  |   81 |\n",
      "| GarageCond    | object  |   81 |\n",
      "| PavedDrive    | object  |    0 |\n",
      "| WoodDeckSF    | int64   |    0 |\n",
      "| OpenPorchSF   | int64   |    0 |\n",
      "| EnclosedPorch | int64   |    0 |\n",
      "| 3SsnPorch     | int64   |    0 |\n",
      "| ScreenPorch   | int64   |    0 |\n",
      "| PoolArea      | int64   |    0 |\n",
      "| PoolQC        | object  | 1453 |\n",
      "| Fence         | object  | 1179 |\n",
      "| MiscFeature   | object  | 1406 |\n",
      "| MiscVal       | int64   |    0 |\n",
      "| MoSold        | int64   |    0 |\n",
      "| YrSold        | int64   |    0 |\n",
      "| SaleType      | object  |    0 |\n",
      "| SaleCondition | object  |    0 |\n",
      "| SalePrice     | int64   |    0 |\n"
     ]
    }
   ],
   "source": [
    "print(new_table.to_markdown())"
   ]
  },
  {
   "attachments": {},
   "cell_type": "markdown",
   "metadata": {},
   "source": [
    "| Feature | DataType | Null | Description\n",
    "|:--------------|:--------|-----:| -----------:|\n",
    "| Id            | int64   |    0 |\n",
    "| MSSubClass    | int64   |    0 |\n",
    "| MSZoning      | object  |    0 |\n",
    "| LotFrontage   | float64 |  259 |\n",
    "| LotArea       | int64   |    0 |\n",
    "| Street        | object  |    0 |\n",
    "| Alley         | object  | 1369 |\n",
    "| LotShape      | object  |    0 |\n",
    "| LandContour   | object  |    0 |\n",
    "| Utilities     | object  |    0 |\n",
    "| LotConfig     | object  |    0 |\n",
    "| LandSlope     | object  |    0 |\n",
    "| Neighborhood  | object  |    0 |\n",
    "| Condition1    | object  |    0 |\n",
    "| Condition2    | object  |    0 |\n",
    "| BldgType      | object  |    0 |\n",
    "| HouseStyle    | object  |    0 |\n",
    "| OverallQual   | int64   |    0 |\n",
    "| OverallCond   | int64   |    0 |\n",
    "| YearBuilt     | int64   |    0 |\n",
    "| YearRemodAdd  | int64   |    0 |\n",
    "| RoofStyle     | object  |    0 |\n",
    "| RoofMatl      | object  |    0 |\n",
    "| Exterior1st   | object  |    0 |\n",
    "| Exterior2nd   | object  |    0 |\n",
    "| MasVnrType    | object  |    8 |\n",
    "| MasVnrArea    | float64 |    8 |\n",
    "| ExterQual     | object  |    0 |\n",
    "| ExterCond     | object  |    0 |\n",
    "| Foundation    | object  |    0 |\n",
    "| BsmtQual      | object  |   37 |\n",
    "| BsmtCond      | object  |   37 |\n",
    "| BsmtExposure  | object  |   38 |\n",
    "| BsmtFinType1  | object  |   37 |\n",
    "| BsmtFinSF1    | int64   |    0 |\n",
    "| BsmtFinType2  | object  |   38 |\n",
    "| BsmtFinSF2    | int64   |    0 |\n",
    "| BsmtUnfSF     | int64   |    0 |\n",
    "| TotalBsmtSF   | int64   |    0 |\n",
    "| Heating       | object  |    0 |\n",
    "| HeatingQC     | object  |    0 |\n",
    "| CentralAir    | object  |    0 |\n",
    "| Electrical    | object  |    1 |\n",
    "| 1stFlrSF      | int64   |    0 |\n",
    "| 2ndFlrSF      | int64   |    0 |\n",
    "| LowQualFinSF  | int64   |    0 |\n",
    "| GrLivArea     | int64   |    0 |\n",
    "| BsmtFullBath  | int64   |    0 |\n",
    "| BsmtHalfBath  | int64   |    0 |\n",
    "| FullBath      | int64   |    0 |\n",
    "| HalfBath      | int64   |    0 |\n",
    "| BedroomAbvGr  | int64   |    0 |\n",
    "| KitchenAbvGr  | int64   |    0 |\n",
    "| KitchenQual   | object  |    0 |\n",
    "| TotRmsAbvGrd  | int64   |    0 |\n",
    "| Functional    | object  |    0 |\n",
    "| Fireplaces    | int64   |    0 |\n",
    "| FireplaceQu   | object  |  690 |\n",
    "| GarageType    | object  |   81 |\n",
    "| GarageYrBlt   | float64 |   81 |\n",
    "| GarageFinish  | object  |   81 |\n",
    "| GarageCars    | int64   |    0 |\n",
    "| GarageArea    | int64   |    0 |\n",
    "| GarageQual    | object  |   81 |\n",
    "| GarageCond    | object  |   81 |\n",
    "| PavedDrive    | object  |    0 |\n",
    "| WoodDeckSF    | int64   |    0 |\n",
    "| OpenPorchSF   | int64   |    0 |\n",
    "| EnclosedPorch | int64   |    0 |\n",
    "| 3SsnPorch     | int64   |    0 |\n",
    "| ScreenPorch   | int64   |    0 |\n",
    "| PoolArea      | int64   |    0 |\n",
    "| PoolQC        | object  | 1453 |\n",
    "| Fence         | object  | 1179 |\n",
    "| MiscFeature   | object  | 1406 |\n",
    "| MiscVal       | int64   |    0 |\n",
    "| MoSold        | int64   |    0 |\n",
    "| YrSold        | int64   |    0 |\n",
    "| SaleType      | object  |    0 |\n",
    "| SaleCondition | object  |    0 |\n",
    "| SalePrice     | int64   |    0 |\n"
   ]
  },
  {
   "cell_type": "markdown",
   "metadata": {},
   "source": []
  }
 ],
 "metadata": {
  "kernelspec": {
   "display_name": "Python 3",
   "language": "python",
   "name": "python3"
  },
  "language_info": {
   "codemirror_mode": {
    "name": "ipython",
    "version": 3
   },
   "file_extension": ".py",
   "mimetype": "text/x-python",
   "name": "python",
   "nbconvert_exporter": "python",
   "pygments_lexer": "ipython3",
   "version": "3.10.8"
  },
  "orig_nbformat": 4,
  "vscode": {
   "interpreter": {
    "hash": "aee8b7b246df8f9039afb4144a1f6fd8d2ca17a180786b69acc140d282b71a49"
   }
  }
 },
 "nbformat": 4,
 "nbformat_minor": 2
}
