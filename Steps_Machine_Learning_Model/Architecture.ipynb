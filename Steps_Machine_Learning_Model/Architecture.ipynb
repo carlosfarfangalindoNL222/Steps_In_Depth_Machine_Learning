{
 "cells": [
  {
   "attachments": {},
   "cell_type": "markdown",
   "metadata": {},
   "source": [
    "\n",
    "### 1. Import/Load Data\n",
    "### 2. EDA (Exploritary Data Analysis)\n",
    "### 3. Data Preprocessing\n",
    "### 4. Feature Selection\n",
    "### 5. Model Selection\n",
    "### 6. Model Training\n",
    "### 7. Model Fine-tuning\n",
    "### 8. Deploy"
   ]
  },
  {
   "cell_type": "code",
   "execution_count": null,
   "metadata": {},
   "outputs": [],
   "source": []
  }
 ],
 "metadata": {
  "language_info": {
   "name": "python"
  },
  "orig_nbformat": 4
 },
 "nbformat": 4,
 "nbformat_minor": 2
}
